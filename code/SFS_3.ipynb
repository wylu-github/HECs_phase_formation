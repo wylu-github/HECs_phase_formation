{
 "cells": [
  {
   "cell_type": "code",
   "execution_count": 1,
   "id": "7bde845a",
   "metadata": {},
   "outputs": [],
   "source": [
    "import pandas as pd\n",
    "import numpy as np\n",
    "import matplotlib.pyplot as plt\n",
    "from mlxtend.feature_selection import SequentialFeatureSelector\n",
    "from sklearn.preprocessing import StandardScaler\n",
    "from sklearn.linear_model import LogisticRegression\n",
    "from sklearn.naive_bayes import GaussianNB\n",
    "from sklearn.ensemble import RandomForestClassifier\n",
    "from sklearn.svm import SVC"
   ]
  },
  {
   "cell_type": "code",
   "execution_count": 2,
   "id": "1c460269",
   "metadata": {},
   "outputs": [],
   "source": [
    "def namestr(obj, namespace):\n",
    "    return [name for name in namespace if namespace[name] is obj]"
   ]
  },
  {
   "cell_type": "code",
   "execution_count": 3,
   "id": "91b4cb42",
   "metadata": {},
   "outputs": [],
   "source": [
    "data = pd.read_excel('middle\\\\ml_dataset_17.xlsx')\n",
    "data.iloc[:, 2:-1] = StandardScaler().fit_transform(data.iloc[:, 2:-1])\n",
    "data1 = data.dropna(axis=0, how='any')\n",
    "X = data1.iloc[:, 2:-1]\n",
    "y = data1.iloc[:, -1]\n",
    "feature_names = range(1, 18)"
   ]
  },
  {
   "cell_type": "code",
   "execution_count": 4,
   "id": "3cda3b55",
   "metadata": {},
   "outputs": [],
   "source": [
    "LR = LogisticRegression(C=1e5, max_iter=1000)\n",
    "NB = GaussianNB()\n",
    "RF = RandomForestClassifier(random_state=120)\n",
    "SVM_linear = SVC(kernel='linear')\n",
    "SVM_rbf = SVC(kernel='rbf')\n",
    "SVM_sigmoid = SVC(kernel='sigmoid')\n",
    "clf_set = [LR, NB, RF, SVM_linear, SVM_rbf, SVM_sigmoid]"
   ]
  },
  {
   "cell_type": "code",
   "execution_count": 5,
   "id": "937d5553",
   "metadata": {},
   "outputs": [],
   "source": [
    "def SFS():\n",
    "    for clf in clf_set:\n",
    "        sfs = SequentialFeatureSelector(clf, k_features=17, forward=True, scoring='accuracy', cv=5)\n",
    "        sfs = sfs.fit(X, y)\n",
    "        d = sfs.subsets_\n",
    "\n",
    "        score = 0\n",
    "        for i in range(17):\n",
    "            if d[i+1]['avg_score'] > score:\n",
    "                score = d[i+1]['avg_score']\n",
    "                feature = list(d[i+1]['feature_idx'])\n",
    "        dataset_clf = data.iloc[:, 1:2]\n",
    "        for f in feature:\n",
    "            dataset_clf = pd.concat([dataset_clf, data.iloc[:, f+2]], axis=1)\n",
    "        dataset_clf = pd.concat([dataset_clf, data.iloc[:, -1]], axis=1)\n",
    "        dataset_clf.index = range(1, 383)\n",
    "        dataset_clf.to_excel('middle\\\\ml_dataset_{}.xlsx'.format(namestr(clf, globals())[0]))\n",
    "        #\n",
    "        m = []\n",
    "        n = []\n",
    "        for i in range(17):\n",
    "            i = i+1\n",
    "            if i > 1:\n",
    "                a = list(d[i]['feature_idx'])\n",
    "                a = [i+1 for i in a]\n",
    "                b = list(d[i-1]['feature_idx'])\n",
    "                b = [i+1 for i in b]\n",
    "                c = 'd' + str(list(set(a) - set(b))[0])\n",
    "            else:\n",
    "                c = 'd' + str(d[i]['feature_idx'][0] + 1)\n",
    "            m.append(c)\n",
    "            n.append(d[i]['avg_score'])\n",
    "\n",
    "        plt.plot(m, n)\n",
    "        plt.show()"
   ]
  },
  {
   "cell_type": "code",
   "execution_count": null,
   "id": "02f9fc64",
   "metadata": {},
   "outputs": [],
   "source": []
  }
 ],
 "metadata": {
  "kernelspec": {
   "display_name": "Python 3 (ipykernel)",
   "language": "python",
   "name": "python3"
  },
  "language_info": {
   "codemirror_mode": {
    "name": "ipython",
    "version": 3
   },
   "file_extension": ".py",
   "mimetype": "text/x-python",
   "name": "python",
   "nbconvert_exporter": "python",
   "pygments_lexer": "ipython3",
   "version": "3.9.13"
  }
 },
 "nbformat": 4,
 "nbformat_minor": 5
}
