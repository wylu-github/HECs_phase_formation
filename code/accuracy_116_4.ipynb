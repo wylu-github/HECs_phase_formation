{
 "cells": [
  {
   "cell_type": "code",
   "execution_count": 1,
   "id": "32131d9a",
   "metadata": {},
   "outputs": [],
   "source": [
    "import numpy as np\n",
    "import pandas as pd\n",
    "import matplotlib.pyplot as plt\n",
    "from sklearn.model_selection import cross_val_score, cross_val_predict, cross_validate\n",
    "from sklearn.preprocessing import StandardScaler\n",
    "from sklearn.linear_model import LogisticRegression\n",
    "from sklearn.naive_bayes import GaussianNB\n",
    "from sklearn.ensemble import RandomForestClassifier\n",
    "from sklearn.svm import SVC"
   ]
  },
  {
   "cell_type": "code",
   "execution_count": 2,
   "id": "7ad3a0c8",
   "metadata": {},
   "outputs": [],
   "source": [
    "LR = LogisticRegression(C=1e5, max_iter=1000)\n",
    "NB = GaussianNB()\n",
    "RF = RandomForestClassifier(random_state=120)\n",
    "SVM_linear = SVC(kernel='linear')\n",
    "SVM_rbf = SVC(kernel='rbf')\n",
    "SVM_sigmoid = SVC(kernel='sigmoid')"
   ]
  },
  {
   "cell_type": "code",
   "execution_count": 3,
   "id": "ec7ca90d",
   "metadata": {},
   "outputs": [],
   "source": [
    "def namestr(obj, namespace):\n",
    "    return [name for name in namespace if namespace[name] is obj]"
   ]
  },
  {
   "cell_type": "code",
   "execution_count": 9,
   "id": "b9e11e23",
   "metadata": {},
   "outputs": [],
   "source": [
    "def accuracy_116():\n",
    "    alist = []\n",
    "    alglist = []\n",
    "    clf_set = [LR, NB, RF, SVM_linear, SVM_rbf, SVM_sigmoid]\n",
    "    data1 = pd.read_excel('middle\\\\ml_dataset_17.xlsx')\n",
    "    data_116 = data1.dropna(axis=0, how='any')\n",
    "    data_116.index = range(0, 116)\n",
    "    data_predict = pd.DataFrame(data_116.iloc[:, 1:2])\n",
    "    for clf in clf_set:\n",
    "        data1 = pd.read_excel('middle\\\\ml_dataset_17.xlsx')\n",
    "        data1.iloc[:, 2:-1] = StandardScaler().fit_transform(data1.iloc[:, 2:-1])\n",
    "        data1 = data1.dropna(axis=0, how='any')\n",
    "        data2 = pd.read_excel('middle\\\\ml_dataset_{}.xlsx'.format(namestr(clf, globals())[0]))\n",
    "        data2 = data2.dropna(axis=0, how='any')\n",
    "        for data in [data1, data2]:\n",
    "            X = data.iloc[:, 2:-1]\n",
    "            y = data.iloc[:, -1]\n",
    "            score = cross_val_score(clf, X, y, cv=5, scoring='f1_macro')\n",
    "            phase_predict = cross_val_predict(clf, X, y, cv=5).reshape(116, 1)\n",
    "            phase_predict = pd.DataFrame(phase_predict)\n",
    "            data_predict = pd.concat([data_predict, phase_predict], axis=1)\n",
    "            #alglist.append('{}'.format(namestr(clf, globals())[0]))\n",
    "            alist.append(score.mean())\n",
    "            #print('the accuracy of {} is：{}'.format(namestr(clf, globals())[0], score))\n",
    "            #print('the validation accuracy of {} is: {}'.format(namestr(clf, globals())[0], score.mean()))\n",
    "    data_predict.index = range(1, 117)\n",
    "    data_predict.columns = ['formula','LR_17', 'LR_SFS', 'NB_17', 'NB_SFS', 'RF_17', 'RF_SFS', 'SVM_linear_17',\n",
    "                        'SVM_linear_SFS', 'SVM_rbf_17', 'SVM_rbf_SFS', 'SVM_sigmoid_17', 'SVM_sigmoid_SFS']\n",
    "    data_predict.to_excel('middle\\\\phase_prediction_116.xlsx')\n",
    "    return alist"
   ]
  },
  {
   "cell_type": "code",
   "execution_count": null,
   "id": "c3ca6da7",
   "metadata": {},
   "outputs": [],
   "source": []
  },
  {
   "cell_type": "code",
   "execution_count": null,
   "id": "e33ed9ee",
   "metadata": {},
   "outputs": [],
   "source": []
  }
 ],
 "metadata": {
  "kernelspec": {
   "display_name": "Python 3 (ipykernel)",
   "language": "python",
   "name": "python3"
  },
  "language_info": {
   "codemirror_mode": {
    "name": "ipython",
    "version": 3
   },
   "file_extension": ".py",
   "mimetype": "text/x-python",
   "name": "python",
   "nbconvert_exporter": "python",
   "pygments_lexer": "ipython3",
   "version": "3.9.13"
  }
 },
 "nbformat": 4,
 "nbformat_minor": 5
}
