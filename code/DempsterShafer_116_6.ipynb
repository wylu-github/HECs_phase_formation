{
 "cells": [
  {
   "cell_type": "code",
   "execution_count": 29,
   "id": "892e0253",
   "metadata": {},
   "outputs": [],
   "source": [
    "import pandas as pd\n",
    "import numpy as np\n",
    "import matplotlib.pyplot as plt"
   ]
  },
  {
   "cell_type": "code",
   "execution_count": 30,
   "id": "9ac63f57",
   "metadata": {},
   "outputs": [],
   "source": [
    "#get Basic Probability Assignment\n",
    "def getMass(sample, accuracy):\n",
    "    bp = [[0,0,0,0],[0,0,0,0]]\n",
    "    for i in range(len(sample)):\n",
    "        if sample[i] == 'S':\n",
    "            bp[0][i]=accuracy[i]\n",
    "        else:\n",
    "            bp[0][i]=1-accuracy[i]\n",
    "        if sample[i] == 'M':\n",
    "            bp[1][i]=accuracy[i]\n",
    "        else:\n",
    "            bp[1][i]=1-accuracy[i]   \n",
    "    return bp"
   ]
  },
  {
   "cell_type": "code",
   "execution_count": 3,
   "id": "b9faa87e",
   "metadata": {},
   "outputs": [],
   "source": [
    "#get Normalized constant\n",
    "def getK(bp):\n",
    "    k=bp[0][0]*bp[0][1]+bp[1][0]*bp[1][1]\n",
    "    return k"
   ]
  },
  {
   "cell_type": "code",
   "execution_count": 4,
   "id": "73ce84fb",
   "metadata": {},
   "outputs": [],
   "source": [
    "#Data fusion according to Dempster combination rules\n",
    "def getDempster(k, bp):\n",
    "    m = bp[0]*bp[1]/k\n",
    "    return m"
   ]
  },
  {
   "cell_type": "code",
   "execution_count": 5,
   "id": "b6c3e780",
   "metadata": {},
   "outputs": [],
   "source": [
    "def doDempsterShafer(sample,accuracy,anum):\n",
    "    #get Basic Probability\n",
    "    BasicProbability = getMass(sample,accuracy)\n",
    "    #print(BasicProbability)\n",
    "    mS = 0\n",
    "    mM = 0\n",
    "    k =0\n",
    "    bp_temp = [[0,0],[0,0]]\n",
    "    #Ds Fusion\n",
    "    for m in range(anum-1):\n",
    "        if m==0 :\n",
    "            bp_temp[0][0] = BasicProbability[0][0]\n",
    "            bp_temp[1][0] = BasicProbability[1][0]\n",
    "        else:\n",
    "            bp_temp[0][0] = mS\n",
    "            bp_temp[1][0] = mM\n",
    "        bp_temp[0][1] = BasicProbability[0][m+1]\n",
    "        bp_temp[1][1] = BasicProbability[1][m+1]\n",
    "        \n",
    "        k = getK(bp_temp)\n",
    "        mS = getDempster(k,bp_temp[0])\n",
    "        mM = getDempster(k,bp_temp[1])\n",
    "    if mS>=0.5:\n",
    "        return 'S'\n",
    "    else:\n",
    "        return 'M'"
   ]
  },
  {
   "cell_type": "code",
   "execution_count": 1,
   "id": "8df391e3",
   "metadata": {},
   "outputs": [],
   "source": [
    "def DempsterShafer_116(accuracylist):\n",
    "    data = pd.read_excel('middle\\\\phase_prediction_116.xlsx')\n",
    "\n",
    "    data17 = data[['formula','LR_17','NB_17','RF_17','SVM_sigmoid_17']]\n",
    "    dataSFS = data[['formula','LR_SFS','NB_SFS','RF_SFS','SVM_sigmoid_SFS']]\n",
    "    Accuracy17 = accuracylist\n",
    "    #LR NB RF sigmoid      \n",
    "    #Getting the accuracy of each algorithm\n",
    "    Accuracy17 = accuracylist[::2]\n",
    "    AccuracySFS =accuracylist[1::2]\n",
    "    \n",
    "    AlgNum = len(Accuracy17)\n",
    "   \n",
    "    data_ds_17 = []\n",
    "    data_ds_SFS = []\n",
    "    formula = list(data17.iloc[:, 1])\n",
    "    new_data_17 = data[['LR_17','NB_17','RF_17','SVM_sigmoid_17']].values\n",
    "    new_data_SFS = data[['LR_SFS','NB_SFS','RF_SFS','SVM_sigmoid_SFS']].values\n",
    "    for n in range(116):\n",
    "        sample_17 = new_data_17[n]\n",
    "        sample_SFS = new_data_SFS[n]\n",
    "        data_ds_17.append(doDempsterShafer(sample_17,Accuracy17,AlgNum))\n",
    "        data_ds_SFS.append(doDempsterShafer(sample_SFS,AccuracySFS,AlgNum))\n",
    "        #data_ds[n][1] = doDempsterShafer(onesample,AccuracySFS,AlgNum)\n",
    "    df17 = pd.DataFrame(data_ds_17, columns=['result_ds_17'])\n",
    "    newdata = pd.concat([data17,df17],axis=1) \n",
    "    indexList = range(1, 117)\n",
    "    newdata.insert(0, 'indexs', indexList, allow_duplicates=False)\n",
    "    newdata.to_excel(excel_writer=\"ds_result_17_116.xlsx\",index=False)\n",
    "    \n",
    "    dfsfs = pd.DataFrame(data_ds_SFS, columns=['result_ds_SFS'])\n",
    "    SFS_data = pd.concat([dataSFS,dfsfs],axis=1) \n",
    "    SFS_data.insert(0, 'indexs', indexList, allow_duplicates=False)\n",
    "    SFS_data.to_excel(excel_writer=\"ds_result_SFS_116.xlsx\",index=False)"
   ]
  }
 ],
 "metadata": {
  "kernelspec": {
   "display_name": "Python 3 (ipykernel)",
   "language": "python",
   "name": "python3"
  },
  "language_info": {
   "codemirror_mode": {
    "name": "ipython",
    "version": 3
   },
   "file_extension": ".py",
   "mimetype": "text/x-python",
   "name": "python",
   "nbconvert_exporter": "python",
   "pygments_lexer": "ipython3",
   "version": "3.10.6"
  }
 },
 "nbformat": 4,
 "nbformat_minor": 5
}
