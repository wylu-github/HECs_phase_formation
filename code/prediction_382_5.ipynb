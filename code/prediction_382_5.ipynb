{
 "cells": [
  {
   "cell_type": "code",
   "execution_count": 2,
   "id": "ba438690",
   "metadata": {},
   "outputs": [],
   "source": [
    "import numpy as np\n",
    "import pandas as pd\n",
    "import matplotlib.pyplot as plt\n",
    "from sklearn.model_selection import StratifiedKFold\n",
    "from sklearn.linear_model import LogisticRegression\n",
    "from sklearn.naive_bayes import GaussianNB\n",
    "from sklearn.ensemble import RandomForestClassifier\n",
    "from sklearn.svm import SVC"
   ]
  },
  {
   "cell_type": "code",
   "execution_count": 3,
   "id": "0a6a8243",
   "metadata": {},
   "outputs": [],
   "source": [
    "LR = LogisticRegression(C=1e5, max_iter=1000)\n",
    "NB = GaussianNB()\n",
    "RF = RandomForestClassifier(random_state=120)\n",
    "SVM_linear = SVC(kernel='linear')\n",
    "SVM_rbf = SVC(kernel='rbf')\n",
    "SVM_sigmoid = SVC(kernel='sigmoid')\n",
    "clf_set = [LR, NB, RF, SVM_linear, SVM_rbf, SVM_sigmoid]"
   ]
  },
  {
   "cell_type": "code",
   "execution_count": 4,
   "id": "f69cc93c",
   "metadata": {},
   "outputs": [],
   "source": [
    "def namestr(obj, namespace):\n",
    "    return [name for name in namespace if namespace[name] is obj]\n"
   ]
  },
  {
   "cell_type": "code",
   "execution_count": 6,
   "id": "87542ad2",
   "metadata": {},
   "outputs": [],
   "source": [
    "def prediction_382():\n",
    "    data_sum = pd.DataFrame(pd.read_excel('middle\\\\ml_dataset_17.xlsx').iloc[:, 1:2])\n",
    "    for clf in clf_set:\n",
    "        data = pd.read_excel('middle\\\\ml_dataset_{}.xlsx'.format(namestr(clf, globals())[0]))\n",
    "        data1 = data.dropna(axis=0, how='any')\n",
    "        X_train = data1.iloc[:, 2:-1].values\n",
    "        y_train = data1.iloc[:, -1].values\n",
    "\n",
    "\n",
    "        X_predict = data.iloc[:, 2:-1].values\n",
    "        skf = StratifiedKFold(n_splits=5)\n",
    "        for train_index, test_index in skf.split(X_train, y_train):\n",
    "            X_4, X_1 = X_train[train_index], X_train[test_index]\n",
    "            y_4, y_1 = y_train[train_index], y_train[test_index]\n",
    "            clf.fit(X_4, y_4)\n",
    "            phase_predict = clf.predict(X_predict).reshape(382, 1)\n",
    "            data_predict = pd.DataFrame(phase_predict)\n",
    "            data_sum = pd.concat([data_sum, data_predict], axis=1)\n",
    "    data_sum.index = range(1, 383)\n",
    "    data_sum.columns = ['formula', 'LR_SFS_1', 'LR_SFS_2', 'LR_SFS_3', 'LR_SFS_4', 'LR_SFS_5', 'NB_SFS_1', 'NB_SFS_2',\n",
    "                    'NB_SFS_3', 'NB_SFS_4', 'NB_SFS_5', 'RF_SFS_1', 'RF_SFS_2', 'RF_SFS_3', 'RF_SFS_4', 'RF_SFS_5',\n",
    "                    'SVM_linear_SFS_1', 'SVM_linear_SFS_2', 'SVM_linear_SFS_3', 'SVM_linear_SFS_4',\n",
    "                    'SVM_linear_SFS_5', 'SVM_rbf_SFS_1', 'SVM_rbf_SFS_1', 'SVM_rbf_SFS_1', 'SVM_rbf_SFS_1',\n",
    "                    'SVM_rbf_SFS_1', 'SVM_sigmoid_SFS_1', 'SVM_sigmoid_SFS_1', 'SVM_sigmoid_SFS_1',\n",
    "                    'SVM_sigmoid_SFS_1', 'SVM_sigmoid_SFS_1']\n",
    "    data_sum.to_excel('middle\\\\phase_prediction_382.xlsx')"
   ]
  },
  {
   "cell_type": "code",
   "execution_count": 7,
   "id": "df70e2b1",
   "metadata": {},
   "outputs": [],
   "source": []
  },
  {
   "cell_type": "code",
   "execution_count": null,
   "id": "f2088492",
   "metadata": {},
   "outputs": [],
   "source": []
  }
 ],
 "metadata": {
  "kernelspec": {
   "display_name": "Python 3 (ipykernel)",
   "language": "python",
   "name": "python3"
  },
  "language_info": {
   "codemirror_mode": {
    "name": "ipython",
    "version": 3
   },
   "file_extension": ".py",
   "mimetype": "text/x-python",
   "name": "python",
   "nbconvert_exporter": "python",
   "pygments_lexer": "ipython3",
   "version": "3.9.13"
  }
 },
 "nbformat": 4,
 "nbformat_minor": 5
}
