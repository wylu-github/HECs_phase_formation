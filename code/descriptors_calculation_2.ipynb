{
 "cells": [
  {
   "cell_type": "code",
   "execution_count": 1,
   "id": "ace3eba1",
   "metadata": {},
   "outputs": [],
   "source": [
    "import numpy as np\n",
    "import pandas as pd\n",
    "\n",
    "mix = np.array([[0, 55.178, 37.901, 1.566, -9.708, -39.739, 24.677, -12.019, -8.924],\n",
    "                [55.178, 0, 3.575, 124.301, 3.927, 3.427, 143.363, 53.212, 51.094],\n",
    "                [37.901, 3.575, 0, 108.077, 1.171, -8.277, 144.206, 65.936, 56.263],\n",
    "                [1.566, 124.301, 108.077, 0, 38.134, 22.392, 4.933, 15.571, 10.576],\n",
    "                [-9.708, 3.927, 1.171, 38.134, 0, -4.691, 63.229, 13.977, 31.356],\n",
    "                [-39.739, 3.427, -8.277, 22.392, -4.691, 0, 49.878, 24.755, 43.745],\n",
    "                [24.677, 143.363, 144.206, 4.933, 63.229, 49.878, 0, 16.044, 6.351],\n",
    "                [-12.019, 53.212, 65.936, 15.571, 13.977, 24.755, 16.044, 0, -2.012],\n",
    "                [-8.924, 51.094, 56.263, 10.576, 31.356, 43.745, 6.351, -2.012, 0]])"
   ]
  },
  {
   "cell_type": "code",
   "execution_count": 2,
   "id": "6d04bc43",
   "metadata": {},
   "outputs": [],
   "source": [
    "# Mixing enthalpy\n",
    "def enthalpy(compo):\n",
    "    h_mix = 0\n",
    "    compo_sum = np.sum(compo)\n",
    "    for i in range(9):\n",
    "        for j in range(i + 1, 9):\n",
    "            h_mix = h_mix + mix[i][j] * (compo[0][i] / compo_sum) * (compo[0][j] / compo_sum)\n",
    "    return h_mix"
   ]
  },
  {
   "cell_type": "code",
   "execution_count": 3,
   "id": "333c3ec6",
   "metadata": {},
   "outputs": [],
   "source": [
    "# Mixing entropy\n",
    "def entropy(compo):\n",
    "    compo_sum = np.sum(compo)\n",
    "    s = 0\n",
    "    for i in range(9):\n",
    "        if compo[0][i] != 0:\n",
    "            s = s + compo[0][i]/compo_sum * (np.log(compo[0][i]/compo_sum))\n",
    "            s_mix = -8.314 * s\n",
    "    for i in range(9):\n",
    "        for j in range(i + 1, 9):\n",
    "            s_mix = s_mix - ((mix[i][j] * 1000 * (compo[0][i] / compo_sum) * (compo[0][j] / compo_sum)) ** 2)/(12 * 8.314 * (2273 ** 2))\n",
    "    return s_mix"
   ]
  },
  {
   "cell_type": "code",
   "execution_count": 4,
   "id": "72e67a77",
   "metadata": {},
   "outputs": [],
   "source": [
    "# Solid-solution formation temperature\n",
    "def ssf_temperature(compo):\n",
    "    tf = enthalpy(compo) * 1000 / entropy(compo)\n",
    "    return tf"
   ]
  },
  {
   "cell_type": "code",
   "execution_count": 5,
   "id": "1f46e804",
   "metadata": {},
   "outputs": [],
   "source": [
    "# Standard deviation of mixing enthalpy\n",
    "def dev(compo):\n",
    "    h_deviation2 = 0\n",
    "    compo_sum = np.sum(compo)\n",
    "    for i in range(9):\n",
    "        for j in range(i + 1, 9):\n",
    "            h_deviation2 = h_deviation2 + (compo[0][i] / compo_sum) * (compo[0][j] / compo_sum) * (mix[i][j] - enthalpy(compo)) ** 2\n",
    "            h_dev = h_deviation2 ** 0.5\n",
    "    return h_dev"
   ]
  },
  {
   "cell_type": "code",
   "execution_count": 6,
   "id": "5894e918",
   "metadata": {},
   "outputs": [],
   "source": [
    "# Standard deviation of mixing enthalpy (with different definition)\n",
    "def dev0(compo):\n",
    "    h_deviation2 = 0\n",
    "    compo_sum = np.sum(compo)\n",
    "    for i in range(9):\n",
    "        for j in range(i + 1, 9):\n",
    "            h_deviation2 = h_deviation2 + (compo[0][i] / compo_sum) * (compo[0][j] / compo_sum) * (mix[i][j] - 0) ** 2\n",
    "            h_dev0 = h_deviation2 ** 0.5\n",
    "    return h_dev0"
   ]
  },
  {
   "cell_type": "code",
   "execution_count": 7,
   "id": "3ed26c14",
   "metadata": {},
   "outputs": [],
   "source": [
    "# Standard deviation of positive mixing enthalpy\n",
    "def dev1(compo):\n",
    "    h_deviation2 = 0\n",
    "    compo_sum = np.sum(compo)\n",
    "    for i in range(9):\n",
    "        for j in range(i + 1, 9):\n",
    "            if mix[i][j] > 0:\n",
    "                h_deviation2 = h_deviation2 + (compo[0][i] / compo_sum) * (compo[0][j] / compo_sum) * (mix[i][j] - 0) ** 2\n",
    "                h_dev1 = h_deviation2 ** 0.5\n",
    "    return h_dev1"
   ]
  },
  {
   "cell_type": "code",
   "execution_count": 8,
   "id": "83975a0b",
   "metadata": {},
   "outputs": [],
   "source": [
    "# Standard deviation of negative mixing enthalpy\n",
    "def dev2(compo):\n",
    "    h_deviation2 = 0\n",
    "    compo_sum = np.sum(compo)\n",
    "    for i in range(9):\n",
    "        for j in range(i + 1, 9):\n",
    "            if mix[i][j] < 0:\n",
    "                h_deviation2 = h_deviation2 + (compo[0][i] / compo_sum) * (compo[0][j] / compo_sum) * (mix[i][j] - 0) ** 2\n",
    "                h_dev2 = h_deviation2 ** 0.5\n",
    "    return h_dev2"
   ]
  },
  {
   "cell_type": "code",
   "execution_count": 9,
   "id": "93a7f0eb",
   "metadata": {},
   "outputs": [],
   "source": [
    "# Average lattice constant of carbide components\n",
    "def lattice_mean(compo):\n",
    "    a = np.array([[4.3380230327, 4.7233386150, 4.6500763935, 4.1593368387, 4.4987425765, 4.4680269405, 3.9665547640,\n",
    "                   4.2737536062, 4.2339216847]])\n",
    "    compo_sum = np.sum(compo)\n",
    "    a_ave = 0\n",
    "    for i in range(9):\n",
    "        a_ave = a_ave + compo[0][i] * a[0][i] / compo_sum\n",
    "    return a_ave"
   ]
  },
  {
   "cell_type": "code",
   "execution_count": 10,
   "id": "b91a36de",
   "metadata": {},
   "outputs": [],
   "source": [
    "# Lattice constant standard deviation of carbide components\n",
    "def lattice_distortion(compo):\n",
    "    a = np.array([[4.3380230327, 4.7233386150, 4.6500763935, 4.1593368387, 4.4987425765, 4.4680269405, 3.9665547640,\n",
    "                   4.2737536062, 4.2339216847]])\n",
    "    compo_sum = np.sum(compo)\n",
    "    a_ave = 0\n",
    "    diff2 = 0\n",
    "    for i in range(9):\n",
    "        a_ave = a_ave + compo[0][i] * a[0][i] / compo_sum\n",
    "    for j in range(9):\n",
    "        diff2 = diff2 + compo[0][j] * ((1 - a[0][j] / a_ave) ** 2) / compo_sum\n",
    "    diff = diff2 ** 0.5\n",
    "    return diff"
   ]
  },
  {
   "cell_type": "code",
   "execution_count": 11,
   "id": "fcc926cc",
   "metadata": {},
   "outputs": [],
   "source": [
    "# Average melting point of carbide components\n",
    "def tm_mean(compo):\n",
    "    tm = np.array([[3067, 3420, 3928, 2830, 3600, 3950, 1810, 2520, 2870]])\n",
    "    compo_sum = np.sum(compo)\n",
    "    tm_ave = 0\n",
    "    for i in range(9):\n",
    "        tm_ave = tm_ave + compo[0][i] * tm[0][i] / compo_sum\n",
    "    return tm_ave"
   ]
  },
  {
   "cell_type": "code",
   "execution_count": 12,
   "id": "28304982",
   "metadata": {},
   "outputs": [],
   "source": [
    "#  Melting point standard deviation of carbide components\n",
    "def tm_dev(compo):\n",
    "    tm = np.array([[3067, 3420, 3928, 2830, 3600, 3950, 1810, 2520, 2870]])\n",
    "    compo_sum = np.sum(compo)\n",
    "    tm_ave = 0\n",
    "    diff2 = 0\n",
    "    for i in range(9):\n",
    "        tm_ave = tm_ave + compo[0][i] * tm[0][i] / compo_sum\n",
    "    for j in range(9):\n",
    "        diff2 = diff2 + compo[0][j] * ((tm[0][j] - tm_ave) ** 2) / compo_sum\n",
    "    diff = diff2 ** 0.5\n",
    "    return diff"
   ]
  },
  {
   "cell_type": "code",
   "execution_count": 13,
   "id": "a5485e41",
   "metadata": {},
   "outputs": [],
   "source": [
    "# Average electronegativity of carbide components\n",
    "def ele_negativity_mean(compo):\n",
    "    x = np.array([[2.23, 2.05, 2.01, 2.08, 2.59, 2.32, 2.12, 2.47, 2.42]])\n",
    "    compo_sum = np.sum(compo)\n",
    "    x_ave = 0\n",
    "    for i in range(9):\n",
    "        x_ave = x_ave + compo[0][i] * x[0][i] / compo_sum\n",
    "    return x_ave"
   ]
  },
  {
   "cell_type": "code",
   "execution_count": 14,
   "id": "c633d216",
   "metadata": {},
   "outputs": [],
   "source": [
    "# Electronegativity standard deviation of carbide components\n",
    "def ele_negativity(compo):\n",
    "    x = np.array([[2.23, 2.05, 2.01, 2.08, 2.59, 2.32, 2.12, 2.47, 2.42]])\n",
    "    compo_sum = np.sum(compo)\n",
    "    x_ave = 0\n",
    "    diff2 = 0\n",
    "    for i in range(9):\n",
    "        x_ave = x_ave + compo[0][i] * x[0][i] / compo_sum\n",
    "    for j in range(9):\n",
    "        diff2 = diff2 + compo[0][j] * ((x[0][j] - x_ave) ** 2) / compo_sum\n",
    "    diff = diff2 ** 0.5\n",
    "    return diff"
   ]
  },
  {
   "cell_type": "code",
   "execution_count": 15,
   "id": "1216b2fe",
   "metadata": {},
   "outputs": [],
   "source": [
    "# Average valence electron concentration of carbide components\n",
    "def vec(compo):\n",
    "    veci = np.array([[4, 4, 4, 5, 5, 5, 6, 6, 6]])\n",
    "    compo_sum = np.sum(compo)\n",
    "    vec_ave = 0\n",
    "    for i in range(9):\n",
    "        vec_ave = vec_ave + compo[0][i] * veci[0][i] / compo_sum\n",
    "        vec_mean = vec_ave + 4\n",
    "    return vec_mean"
   ]
  },
  {
   "cell_type": "code",
   "execution_count": 16,
   "id": "2edf2b5d",
   "metadata": {},
   "outputs": [],
   "source": [
    "# Valence electron concentration Standard deviation of carbide components\n",
    "def vec_dev(compo):\n",
    "    veci = np.array([[4, 4, 4, 5, 5, 5, 6, 6, 6]])\n",
    "    compo_sum = np.sum(compo)\n",
    "    vec_ave = 0\n",
    "    diff2 = 0\n",
    "    for i in range(9):\n",
    "        vec_ave = vec_ave + compo[0][i] * veci[0][i] / compo_sum\n",
    "    for j in range(9):\n",
    "        diff2 = diff2 + compo[0][j] * ((veci[0][j] - vec_ave) ** 2) / compo_sum\n",
    "    diff = diff2 ** 0.5\n",
    "    return diff"
   ]
  },
  {
   "cell_type": "code",
   "execution_count": 17,
   "id": "2c3e57a9",
   "metadata": {},
   "outputs": [],
   "source": [
    "# Average relative molecular mass of carbide components\n",
    "def mass_mean(compo):\n",
    "    mass = np.array([[59.88, 103.23, 190.51, 62.95, 104.92, 192.51, 64.01, 107.97, 195.91]])\n",
    "    compo_sum = np.sum(compo)\n",
    "    mass_ave = 0\n",
    "    for i in range(9):\n",
    "        mass_ave = mass_ave + compo[0][i] * mass[0][i] /compo_sum\n",
    "    return mass_ave"
   ]
  },
  {
   "cell_type": "code",
   "execution_count": 18,
   "id": "ed4aeb51",
   "metadata": {},
   "outputs": [],
   "source": [
    "# Relative molecular mass standard deviation of carbide components\n",
    "def mass_dev(compo):\n",
    "    mass = np.array([[59.88, 103.23, 190.51, 62.95, 104.92, 192.51, 64.01, 107.97, 195.91]])\n",
    "    compo_sum = np.sum(compo)\n",
    "    mass_ave = 0\n",
    "    diff2 = 0\n",
    "    for i in range(9):\n",
    "        mass_ave = mass_ave + compo[0][i] * mass[0][i] / compo_sum\n",
    "    for j in range(9):\n",
    "        diff2 = diff2 + compo[0][j] * ((mass[0][j] - mass_ave) ** 2) / compo_sum\n",
    "    diff = diff2 ** 0.5\n",
    "    return diff"
   ]
  },
  {
   "cell_type": "code",
   "execution_count": 19,
   "id": "c0296f35",
   "metadata": {},
   "outputs": [],
   "source": [
    "def descriptors_calculation():\n",
    "    # 'systems.xlsx' contains the chemical formula and compositions of high-entropy carbides\n",
    "    systems = pd.read_excel('382_HEC_systems.xlsx')\n",
    "    formula = list(systems.iloc[:, 1])\n",
    "    comp = systems.iloc[:, 2:-1].values\n",
    "    phase = list(systems.iloc[:, -1])\n",
    "    data_sum = np.zeros((382, 17))\n",
    "    for h in range(382):\n",
    "        data_sum[h][0] = enthalpy(comp[h].reshape(1, 9))\n",
    "        data_sum[h][1] = entropy(comp[h].reshape(1, 9))\n",
    "        data_sum[h][2] = ssf_temperature(comp[h].reshape(1, 9))\n",
    "        data_sum[h][3] = dev(comp[h].reshape(1, 9))\n",
    "        data_sum[h][4] = dev0(comp[h].reshape(1, 9))\n",
    "        data_sum[h][5] = dev1(comp[h].reshape(1, 9))\n",
    "        data_sum[h][6] = dev2(comp[h].reshape(1, 9))\n",
    "        data_sum[h][7] = lattice_mean(comp[h].reshape(1, 9))\n",
    "        data_sum[h][8] = lattice_distortion(comp[h].reshape(1, 9))\n",
    "        data_sum[h][9] = tm_mean(comp[h].reshape(1, 9))\n",
    "        data_sum[h][10] = tm_dev(comp[h].reshape(1, 9))\n",
    "        data_sum[h][11] = ele_negativity(comp[h].reshape(1, 9))\n",
    "        data_sum[h][12] = ele_negativity_mean(comp[h].reshape(1, 9))\n",
    "        data_sum[h][13] = vec(comp[h].reshape(1, 9))\n",
    "        data_sum[h][14] = vec_dev(comp[h].reshape(1, 9))\n",
    "        data_sum[h][15] = mass_mean(comp[h].reshape(1, 9))\n",
    "        data_sum[h][16] = mass_dev(comp[h].reshape(1, 9))\n",
    "    data_sum = np.around(data_sum, 3)\n",
    "    dataset = pd.DataFrame(data_sum)\n",
    "    dataset.index = range(1, 383)\n",
    "    dataset.columns = ['enthalpy', 'entropy', 'ssf_temperature', 'dev', 'dev0', 'dev+', 'dev-', 'lattice_mean',\n",
    "                       'lattice_distortion', 'tm_mean', 'tm_dev', 'ele_negativity', 'ele_negativity_mean', 'vec',\n",
    "                       'vec_dev', 'mass_mean', 'mass_dev']\n",
    "    dataset.insert(loc=0, column='formula', value=formula)\n",
    "    dataset.insert(loc=18, column='phase', value=phase)\n",
    "    dataset.to_excel(\"middle\\\\ml_dataset_17.xlsx\")"
   ]
  }
 ],
 "metadata": {
  "kernelspec": {
   "display_name": "Python 3 (ipykernel)",
   "language": "python",
   "name": "python3"
  },
  "language_info": {
   "codemirror_mode": {
    "name": "ipython",
    "version": 3
   },
   "file_extension": ".py",
   "mimetype": "text/x-python",
   "name": "python",
   "nbconvert_exporter": "python",
   "pygments_lexer": "ipython3",
   "version": "3.9.13"
  }
 },
 "nbformat": 4,
 "nbformat_minor": 5
}
