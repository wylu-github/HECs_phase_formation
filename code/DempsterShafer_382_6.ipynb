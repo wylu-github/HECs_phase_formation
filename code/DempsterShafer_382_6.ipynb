{
 "cells": [
  {
   "cell_type": "code",
   "execution_count": 14,
   "id": "1562ba20",
   "metadata": {},
   "outputs": [],
   "source": [
    "import pandas as pd\n",
    "import numpy as np\n",
    "import matplotlib.pyplot as plt"
   ]
  },
  {
   "cell_type": "code",
   "execution_count": 15,
   "id": "1ded13a0",
   "metadata": {},
   "outputs": [],
   "source": [
    "#get Basic Probability Assignment\n",
    "def getMass(sample, accuracy):\n",
    "    bp = [[0,0,0,0],[0,0,0,0]]\n",
    "    for i in range(len(sample)):\n",
    "        if sample[i] == 'S':\n",
    "            bp[0][i]=accuracy[i]\n",
    "        else:\n",
    "            bp[0][i]=1-accuracy[i]\n",
    "        if sample[i] == 'M':\n",
    "            bp[1][i]=accuracy[i]\n",
    "        else:\n",
    "            bp[1][i]=1-accuracy[i]   \n",
    "    return bp"
   ]
  },
  {
   "cell_type": "code",
   "execution_count": 16,
   "id": "0796e7ce",
   "metadata": {},
   "outputs": [],
   "source": [
    "#get Normalized constant\n",
    "def getK(bp):\n",
    "    k=bp[0][0]*bp[0][1]+bp[1][0]*bp[1][1]\n",
    "    return k"
   ]
  },
  {
   "cell_type": "code",
   "execution_count": 17,
   "id": "52f4a6a3",
   "metadata": {},
   "outputs": [],
   "source": [
    "#Data fusion according to Dempster combination rules\n",
    "def getDempster(k, bp):\n",
    "    m = bp[0]*bp[1]/k\n",
    "    return m"
   ]
  },
  {
   "cell_type": "code",
   "execution_count": 18,
   "id": "35d7d4e7",
   "metadata": {},
   "outputs": [],
   "source": [
    "def doDempsterShafer(sample,accuracy,anum):\n",
    "    #get Basic Probability\n",
    "    BasicProbability = getMass(sample,accuracy)\n",
    "    #print(BasicProbability)\n",
    "    mS = 0\n",
    "    mM = 0\n",
    "    k =0\n",
    "    bp_temp = [[0,0],[0,0]]\n",
    "    #Ds Fusion\n",
    "    for m in range(anum-1):\n",
    "        if m==0 :\n",
    "            bp_temp[0][0] = BasicProbability[0][0]\n",
    "            bp_temp[1][0] = BasicProbability[1][0]\n",
    "        else:\n",
    "            bp_temp[0][0] = mS\n",
    "            bp_temp[1][0] = mM\n",
    "        bp_temp[0][1] = BasicProbability[0][m+1]\n",
    "        bp_temp[1][1] = BasicProbability[1][m+1]\n",
    "        \n",
    "        k = getK(bp_temp)\n",
    "        mS = getDempster(k,bp_temp[0])\n",
    "        mM = getDempster(k,bp_temp[1])\n",
    "    if mS>=0.5:\n",
    "        return 'S'\n",
    "    else:\n",
    "        return 'M'"
   ]
  },
  {
   "cell_type": "code",
   "execution_count": 3,
   "id": "eff977b8",
   "metadata": {},
   "outputs": [],
   "source": [
    "def DempsterShafer_382(accuracylist):\n",
    "    data = pd.read_excel('middle\\\\phase_prediction_382.xlsx')\n",
    "    df1 = data.replace(\"S\",\"1\")\n",
    "    df2 = df1.replace(\"M\",\"2\")\n",
    "    df3 = pd.DataFrame(df2[df2.columns[2:]], dtype = np.float64)\n",
    "\n",
    "    df_LR = df3[df3.columns[0:5]]\n",
    "    LR_mean = df_LR.mean(axis=1)\n",
    "    df_LR_avg = pd.DataFrame(LR_mean, columns=['LR_SFS_AVG'])\n",
    "    df_LR_avg[\"LR_SFS_AVG\"] = np.where(df_LR_avg[\"LR_SFS_AVG\"]<=1.5, \"S\", \"M\")\n",
    "    #df_LR\n",
    "    #df_LR_avg\n",
    "\n",
    "    df_NB = df3[df3.columns[5:10]]\n",
    "    NB_mean = df_NB.mean(axis=1)\n",
    "    df_NB_avg = pd.DataFrame(NB_mean, columns=['NB_SFS_AVG'])\n",
    "    df_NB_avg[\"NB_SFS_AVG\"] = np.where(df_NB_avg[\"NB_SFS_AVG\"]<=1.5, \"S\", \"M\")\n",
    "    #df_NB\n",
    "\n",
    "    df_RF = df3[df3.columns[10:15]]\n",
    "    RF_mean = df_RF.mean(axis=1)\n",
    "    df_RF_avg = pd.DataFrame(RF_mean, columns=['RF_SFS_AVG'])\n",
    "    df_RF_avg[\"RF_SFS_AVG\"] = np.where(df_RF_avg[\"RF_SFS_AVG\"]<=1.5, \"S\", \"M\")\n",
    "    #df_RF\n",
    "    #df_RF_avg\n",
    "\n",
    "    df_Sigmoid = df3[df3.columns[25:30]]\n",
    "    Sigmoid_mean = df_Sigmoid.mean(axis=1)\n",
    "    df_Sigmoid_avg = pd.DataFrame(Sigmoid_mean, columns=['SVM_Sigmoid_AVG'])\n",
    "    df_Sigmoid_avg[\"SVM_Sigmoid_AVG\"] = np.where(df_Sigmoid_avg[\"SVM_Sigmoid_AVG\"]<=1.5, \"S\", \"M\")\n",
    "    #df_Sigmoid\n",
    "    #df_Sigmoid_avg\n",
    "\n",
    "    data.rename(columns={'Unnamed: 0':'indexs'},inplace=True)\n",
    "    data_name = data[data.columns[0:2]]\n",
    "    newdata = pd.concat([data_name,df_LR_avg,df_NB_avg,df_RF_avg,df_Sigmoid_avg],axis=1) \n",
    "    \n",
    "     #LR NB RF sigmoid      \n",
    "    #Getting the accuracy of each algorithm    \n",
    "    AccuracySFS =accuracylist[1::2]\n",
    "    AlgNum = len(AccuracySFS)\n",
    "    \n",
    "    data_ds_SFS = []\n",
    "    formula = list(newdata.iloc[:, 1])\n",
    "    dataSFS = newdata[['indexs','formula','LR_SFS_AVG','NB_SFS_AVG','RF_SFS_AVG','SVM_Sigmoid_AVG']]\n",
    "    new_data_SFS = newdata[['LR_SFS_AVG','NB_SFS_AVG','RF_SFS_AVG','SVM_Sigmoid_AVG']].values\n",
    "    for n in range(382):\n",
    "        sample_SFS = new_data_SFS[n]\n",
    "        data_ds_SFS.append(doDempsterShafer(sample_SFS,AccuracySFS,AlgNum))\n",
    "        #data_ds[n][1] = doDempsterShafer(onesample,AccuracySFS,AlgNum)\n",
    "    dfsfs = pd.DataFrame(data_ds_SFS, columns=['result_ds_SFS'])\n",
    "    SFS_data = pd.concat([dataSFS,dfsfs],axis=1) \n",
    "    SFS_data.to_excel(excel_writer=\"ds_result_SFS_382.xlsx\",index=False)"
   ]
  }
 ],
 "metadata": {
  "kernelspec": {
   "display_name": "Python 3 (ipykernel)",
   "language": "python",
   "name": "python3"
  },
  "language_info": {
   "codemirror_mode": {
    "name": "ipython",
    "version": 3
   },
   "file_extension": ".py",
   "mimetype": "text/x-python",
   "name": "python",
   "nbconvert_exporter": "python",
   "pygments_lexer": "ipython3",
   "version": "3.10.6"
  }
 },
 "nbformat": 4,
 "nbformat_minor": 5
}
