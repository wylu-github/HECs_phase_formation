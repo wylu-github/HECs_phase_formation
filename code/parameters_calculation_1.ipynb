{
 "cells": [
  {
   "cell_type": "code",
   "execution_count": 7,
   "id": "4282ad0f",
   "metadata": {},
   "outputs": [],
   "source": [
    "import numpy as np\n",
    "import pandas as pd"
   ]
  },
  {
   "cell_type": "code",
   "execution_count": 8,
   "id": "16536195",
   "metadata": {},
   "outputs": [],
   "source": [
    "mix = np.array([[0, 55.178, 37.901, 1.566, -9.708, -39.739, 24.677, -12.019, -8.924],\n",
    "                    [55.178, 0, 3.575, 124.301, 3.927, 3.427, 143.363, 53.212, 51.094],\n",
    "                    [37.901, 3.575, 0, 108.077, 1.171, -8.277, 144.206, 65.936, 56.263],\n",
    "                    [1.566, 124.301, 108.077, 0, 38.134, 22.392, 4.933, 15.571, 10.576],\n",
    "                    [-9.708, 3.927, 1.171, 38.134, 0, -4.691, 63.229, 13.977, 31.356],\n",
    "                    [-39.739, 3.427, -8.277, 22.392, -4.691, 0, 49.878, 24.755, 43.745],\n",
    "                    [24.677, 143.363, 144.206, 4.933, 63.229, 49.878, 0, 16.044, 6.351],\n",
    "                    [-12.019, 53.212, 65.936, 15.571, 13.977, 24.755, 16.044, 0, -2.012],\n",
    "                    [-8.924, 51.094, 56.263, 10.576, 31.356, 43.745, 6.351, -2.012, 0]])"
   ]
  },
  {
   "cell_type": "code",
   "execution_count": 9,
   "id": "3d49ae10",
   "metadata": {},
   "outputs": [],
   "source": [
    "# Mixing enthalpy\n",
    "def enthalpy(compo):\n",
    "    h_mix = 0\n",
    "    compo_sum = np.sum(compo)\n",
    "    for i in range(9):\n",
    "        for j in range(i + 1, 9):\n",
    "            h_mix = h_mix + mix[i][j] * (compo[0][i] / compo_sum) * (compo[0][j] / compo_sum)\n",
    "    return h_mix\n"
   ]
  },
  {
   "cell_type": "code",
   "execution_count": 10,
   "id": "f26eeba7",
   "metadata": {},
   "outputs": [],
   "source": [
    "# Lattice constant standard deviation of carbide components\n",
    "def lattice_distortion(compo):\n",
    "    a = np.array([[4.3380230327, 4.7233386150, 4.6500763935, 4.1593368387, 4.4987425765, 4.4680269405, 3.9665547640,\n",
    "                   4.2737536062, 4.2339216847]])\n",
    "    # a = np.array([[4.336313497, 4.723338615, 4.650076394, 4.160823896, 4.50608517, 4.480954251, 4.070232395,\n",
    "    #                4.382501575, 4.390166008]])\n",
    "    compo_sum = np.sum(compo)\n",
    "    a_ave = 0\n",
    "    diff2 = 0\n",
    "    for i in range(9):\n",
    "        a_ave = a_ave + compo[0][i] * a[0][i] / compo_sum\n",
    "    for j in range(9):\n",
    "        diff2 = diff2 + compo[0][j] * ((1 - a[0][j] / a_ave) ** 2) / compo_sum\n",
    "    diff = diff2 ** 0.5\n",
    "    return diff"
   ]
  },
  {
   "cell_type": "code",
   "execution_count": 12,
   "id": "663b3d48",
   "metadata": {},
   "outputs": [],
   "source": [
    "def parameters_calculation():    \n",
    "    # 'systems.xlsx' contains the chemical formula and compositions of high-entropy carbides\n",
    "    systems = pd.read_excel('50_senary_HECs.xlsx')\n",
    "    formula = list(systems.iloc[:, 1])\n",
    "    comp = systems.iloc[:, 2:-1].values\n",
    "    phase = list(systems.iloc[:, -1])\n",
    "    data_sum = np.zeros((50, 2))\n",
    "    for h in range(50):\n",
    "        data_sum[h][0] = enthalpy(comp[h].reshape(1, 9))\n",
    "        data_sum[h][1] = lattice_distortion(comp[h].reshape(1, 9))\n",
    "    data_sum = np.around(data_sum, 3)\n",
    "    dataset = pd.DataFrame(data_sum)\n",
    "    dataset.index = range(1, 51)\n",
    "    dataset.columns = ['mixing_enthalpy', 'lattice_parameter_difference']\n",
    "    dataset.insert(loc=0, column='formula', value=formula)\n",
    "    dataset.insert(loc=3, column='phase', value=phase)\n",
    "    dataset.to_excel(\"middle\\\\parameters_50HECs.xlsx\")"
   ]
  },
  {
   "cell_type": "code",
   "execution_count": null,
   "id": "63e92e5c",
   "metadata": {},
   "outputs": [],
   "source": []
  }
 ],
 "metadata": {
  "kernelspec": {
   "display_name": "Python 3 (ipykernel)",
   "language": "python",
   "name": "python3"
  },
  "language_info": {
   "codemirror_mode": {
    "name": "ipython",
    "version": 3
   },
   "file_extension": ".py",
   "mimetype": "text/x-python",
   "name": "python",
   "nbconvert_exporter": "python",
   "pygments_lexer": "ipython3",
   "version": "3.9.13"
  }
 },
 "nbformat": 4,
 "nbformat_minor": 5
}
